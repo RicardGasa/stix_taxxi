{
 "cells": [
  {
   "cell_type": "code",
   "execution_count": null,
   "id": "brilliant-indonesia",
   "metadata": {},
   "outputs": [],
   "source": [
    "from taxii2client.v20 import Collection, Server\n",
    "from stix2 import CompositeDataSource, FileSystemSource, TAXIICollectionSource, Filter, Bundle\n",
    "import requests\n",
    "import stix2viz\n",
    "\n",
    "#TAXII\n",
    "#create TAXIICollectionSource from MITRE\n",
    "server = Server(\"https://cti-taxii.mitre.org/taxii/\") #Choose server\n",
    "api_root = server.api_roots[0]\n",
    "\n",
    "#all of collections from MITRE taxii server\n",
    "collection0 = Collection(api_root.collections[0].url) \n",
    "taxiicollectionsource0 = TAXIICollectionSource(collection0)\n",
    "\n",
    "collection1 = Collection(api_root.collections[1].url) \n",
    "taxiicollectionsource1 = TAXIICollectionSource(collection1)\n",
    "\n",
    "collection2 = Collection(api_root.collections[2].url) \n",
    "taxiicollectionsource2 = TAXIICollectionSource(collection2)\n",
    "\n",
    "collection3 = Collection(api_root.collections[3].url) \n",
    "taxiicollectionsource3 = TAXIICollectionSource(collection3)\n",
    "\n",
    "#create FileSystemSource\n",
    "filesystemsource = FileSystemSource(\"/home/patch/TFM/codigo/DataStore_API/stix_source/\")\n",
    "\n",
    "#add taxii collections (server and local) to the CompositeDataSource\n",
    "compositedatasource = CompositeDataSource() #This is used for use local taxii intelligence and public taxii server\n",
    "compositedatasource.add_data_sources([filesystemsource,taxiicollectionsource0,taxiicollectionsource1,taxiicollectionsource2,taxiicollectionsource3])\n",
    "\n",
    "\n",
    "#MAIN\n",
    "\n",
    "search = input(\"Enter the SDO you are searching: (example: malware--94379dec-5c87-49db-b36e-66abc0b81344)\")\n",
    "print(\"Wait a moment please. This search may take a few minutes\")\n",
    "\n",
    "rels = compositedatasource.relationships(search) #Get all the relationships related to the 'ioc'\n",
    "sdos = compositedatasource.related_to(search, target_only=False) #Get all the SDOs related to the 'ioc'\n",
    "ioc = compositedatasource.get(search) #Get the SDO of the 'ioc' introduced\n",
    "\n",
    "bundle_final = Bundle(rels, sdos, ioc) #Save all the SDOs in a bundle\n",
    "\n",
    "#show graph (jupyter notebook or web server)\n",
    "stix2viz.display(bundle_final)"
   ]
  }
 ],
 "metadata": {
  "kernelspec": {
   "display_name": "Python 3",
   "language": "python",
   "name": "python3"
  },
  "language_info": {
   "codemirror_mode": {
    "name": "ipython",
    "version": 3
   },
   "file_extension": ".py",
   "mimetype": "text/x-python",
   "name": "python",
   "nbconvert_exporter": "python",
   "pygments_lexer": "ipython3",
   "version": "3.9.2"
  }
 },
 "nbformat": 4,
 "nbformat_minor": 5
}
